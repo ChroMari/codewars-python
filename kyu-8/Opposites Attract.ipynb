{
 "cells": [
  {
   "cell_type": "markdown",
   "id": "036bce29",
   "metadata": {},
   "source": [
    "## DESCRIPTION:"
   ]
  },
  {
   "cell_type": "markdown",
   "id": "00253d5b",
   "metadata": {},
   "source": [
    "Timmy & Sarah think they are in love, but around where they live, they will only know once they pick a flower each. If one of the flowers has an even number of petals and the other has an odd number of petals it means they are in love.\n",
    "\n",
    "Write a function that will take the number of petals of each flower and return true if they are in love and false if they aren't."
   ]
  },
  {
   "cell_type": "markdown",
   "id": "62d837d7",
   "metadata": {},
   "source": [
    "### Solution:"
   ]
  },
  {
   "cell_type": "code",
   "execution_count": 1,
   "id": "3dcded89",
   "metadata": {},
   "outputs": [],
   "source": [
    "def lovefunc( flower1, flower2 ):\n",
    "    return flower1 % 2 != flower2 % 2\n"
   ]
  },
  {
   "cell_type": "markdown",
   "id": "3c42fd88",
   "metadata": {},
   "source": [
    "### Sample Tests:"
   ]
  },
  {
   "cell_type": "code",
   "execution_count": 2,
   "id": "84f7367d",
   "metadata": {},
   "outputs": [
    {
     "name": "stdout",
     "output_type": "stream",
     "text": [
      "True\n",
      "True\n",
      "True\n",
      "True\n"
     ]
    }
   ],
   "source": [
    "print(lovefunc(1,4) == True)\n",
    "print(lovefunc(2,2) == False)\n",
    "print(lovefunc(0,1) == True)\n",
    "print(lovefunc(0,0) == False)"
   ]
  }
 ],
 "metadata": {
  "kernelspec": {
   "display_name": "Python 3 (ipykernel)",
   "language": "python",
   "name": "python3"
  },
  "language_info": {
   "codemirror_mode": {
    "name": "ipython",
    "version": 3
   },
   "file_extension": ".py",
   "mimetype": "text/x-python",
   "name": "python",
   "nbconvert_exporter": "python",
   "pygments_lexer": "ipython3",
   "version": "3.10.12"
  }
 },
 "nbformat": 4,
 "nbformat_minor": 5
}
