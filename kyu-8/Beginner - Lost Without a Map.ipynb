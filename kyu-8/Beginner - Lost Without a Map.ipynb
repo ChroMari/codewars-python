{
 "cells": [
  {
   "cell_type": "markdown",
   "id": "c55d7945",
   "metadata": {},
   "source": [
    "## DESCRIPTION:"
   ]
  },
  {
   "cell_type": "markdown",
   "id": "608a77e8",
   "metadata": {},
   "source": [
    "Given an array of integers, return a new array with each value doubled.\n",
    "\n",
    "**For example:**\n",
    "```\n",
    "[1, 2, 3] --> [2, 4, 6]\n",
    "```"
   ]
  },
  {
   "cell_type": "markdown",
   "id": "6bcb6950",
   "metadata": {},
   "source": [
    "### Solution:"
   ]
  },
  {
   "cell_type": "code",
   "execution_count": 11,
   "id": "77aa26e2",
   "metadata": {},
   "outputs": [],
   "source": [
    "def maps(a):\n",
    "    dubl_a = map(lambda elem: elem * 2, a)\n",
    "    return list(dubl_a)\n"
   ]
  },
  {
   "cell_type": "markdown",
   "id": "e43d527d",
   "metadata": {},
   "source": [
    "### Sample Tests:"
   ]
  },
  {
   "cell_type": "code",
   "execution_count": 12,
   "id": "54953ad7",
   "metadata": {},
   "outputs": [
    {
     "name": "stdout",
     "output_type": "stream",
     "text": [
      "True\n",
      "True\n",
      "True\n"
     ]
    }
   ],
   "source": [
    "print(maps([1, 2, 3]) == [2, 4, 6])\n",
    "print(maps([0, 1, 2, 3, 4, 5, 6, 7, 8, 9]) == [0, 2, 4, 6, 8, 10, 12, 14, 16, 18])\n",
    "print(maps([]) == [])"
   ]
  },
  {
   "cell_type": "markdown",
   "id": "40195c43",
   "metadata": {},
   "source": [
    "### Best Practices:"
   ]
  },
  {
   "cell_type": "code",
   "execution_count": 13,
   "id": "363008b4",
   "metadata": {},
   "outputs": [],
   "source": [
    "def maps(a):\n",
    "    return [2 * x for x in a]\n"
   ]
  }
 ],
 "metadata": {
  "kernelspec": {
   "display_name": "Python 3 (ipykernel)",
   "language": "python",
   "name": "python3"
  },
  "language_info": {
   "codemirror_mode": {
    "name": "ipython",
    "version": 3
   },
   "file_extension": ".py",
   "mimetype": "text/x-python",
   "name": "python",
   "nbconvert_exporter": "python",
   "pygments_lexer": "ipython3",
   "version": "3.10.12"
  }
 },
 "nbformat": 4,
 "nbformat_minor": 5
}
