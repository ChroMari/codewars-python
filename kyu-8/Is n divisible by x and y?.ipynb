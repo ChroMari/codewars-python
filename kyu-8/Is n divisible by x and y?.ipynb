{
 "cells": [
  {
   "cell_type": "markdown",
   "id": "5a645a6f",
   "metadata": {},
   "source": [
    "## DESCRIPTION:"
   ]
  },
  {
   "cell_type": "markdown",
   "id": "6c7e2be0",
   "metadata": {},
   "source": [
    "Create a function that checks if a number n is divisible by two numbers x AND y. All inputs are positive, non-zero numbers.\n",
    "\n",
    "**Examples:**\n",
    "```\n",
    "1) n =   3, x = 1, y = 3 =>  true because   3 is divisible by 1 and 3\n",
    "2) n =  12, x = 2, y = 6 =>  true because  12 is divisible by 2 and 6\n",
    "3) n = 100, x = 5, y = 3 => false because 100 is not divisible by 3\n",
    "4) n =  12, x = 7, y = 5 => false because  12 is neither divisible by 7 nor 5\n",
    "```"
   ]
  },
  {
   "cell_type": "markdown",
   "id": "0756e418",
   "metadata": {},
   "source": [
    "### Solution:"
   ]
  },
  {
   "cell_type": "code",
   "execution_count": 2,
   "id": "7e9f9b7f",
   "metadata": {},
   "outputs": [],
   "source": [
    "def is_divisible(n,x,y):\n",
    "    return not n % x and not n % y\n"
   ]
  },
  {
   "cell_type": "markdown",
   "id": "dea6fb84",
   "metadata": {},
   "source": [
    "### Sample Tests:"
   ]
  },
  {
   "cell_type": "code",
   "execution_count": 3,
   "id": "66eb4806",
   "metadata": {},
   "outputs": [
    {
     "name": "stdout",
     "output_type": "stream",
     "text": [
      "True\n",
      "True\n",
      "True\n",
      "True\n"
     ]
    }
   ],
   "source": [
    "print(is_divisible(3,2,2) == False)\n",
    "print(is_divisible(3,3,4) == False)\n",
    "print(is_divisible(12,3,4) == True)\n",
    "print(is_divisible(8,3,4) == False)"
   ]
  },
  {
   "cell_type": "markdown",
   "id": "b2cd6eaa",
   "metadata": {},
   "source": [
    "### Best Practices:"
   ]
  },
  {
   "cell_type": "code",
   "execution_count": 4,
   "id": "c2fd1fef",
   "metadata": {},
   "outputs": [],
   "source": [
    "def is_divisible(n, x, y):\n",
    "    return n % x == n % y == 0\n"
   ]
  }
 ],
 "metadata": {
  "kernelspec": {
   "display_name": "Python 3 (ipykernel)",
   "language": "python",
   "name": "python3"
  },
  "language_info": {
   "codemirror_mode": {
    "name": "ipython",
    "version": 3
   },
   "file_extension": ".py",
   "mimetype": "text/x-python",
   "name": "python",
   "nbconvert_exporter": "python",
   "pygments_lexer": "ipython3",
   "version": "3.10.12"
  }
 },
 "nbformat": 4,
 "nbformat_minor": 5
}
