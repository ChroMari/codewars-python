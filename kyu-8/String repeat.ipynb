{
 "cells": [
  {
   "cell_type": "markdown",
   "id": "b7e87248",
   "metadata": {},
   "source": [
    "## DESCRIPTION:"
   ]
  },
  {
   "cell_type": "markdown",
   "id": "e9c21365",
   "metadata": {},
   "source": [
    "Write a function that accepts an integer n and a string s as parameters, and returns a string of s repeated exactly n times.\n",
    "\n",
    "**Examples (input -> output)**\n",
    "<code>\n",
    "6, \"I\"     -> \"IIIIII\"\n",
    "5, \"Hello\" -> \"HelloHelloHelloHelloHello\"</code>"
   ]
  },
  {
   "cell_type": "markdown",
   "id": "3e0fe9c9",
   "metadata": {},
   "source": [
    "### Solution:"
   ]
  },
  {
   "cell_type": "code",
   "execution_count": 1,
   "id": "85a7e222",
   "metadata": {},
   "outputs": [],
   "source": [
    "def repeat_str(repeat, string):\n",
    "    return string * repeat\n"
   ]
  },
  {
   "cell_type": "markdown",
   "id": "80b38e9f",
   "metadata": {},
   "source": [
    "### Sample Tests:"
   ]
  },
  {
   "cell_type": "code",
   "execution_count": 2,
   "id": "57efe498",
   "metadata": {},
   "outputs": [
    {
     "name": "stdout",
     "output_type": "stream",
     "text": [
      "True\n",
      "True\n",
      "True\n"
     ]
    }
   ],
   "source": [
    "print(repeat_str(4, 'a') == 'aaaa')\n",
    "print(repeat_str(3, 'hello ') == 'hello hello hello ')\n",
    "print(repeat_str(2, 'abc') == 'abcabc')"
   ]
  }
 ],
 "metadata": {
  "kernelspec": {
   "display_name": "Python 3 (ipykernel)",
   "language": "python",
   "name": "python3"
  },
  "language_info": {
   "codemirror_mode": {
    "name": "ipython",
    "version": 3
   },
   "file_extension": ".py",
   "mimetype": "text/x-python",
   "name": "python",
   "nbconvert_exporter": "python",
   "pygments_lexer": "ipython3",
   "version": "3.10.12"
  }
 },
 "nbformat": 4,
 "nbformat_minor": 5
}
