{
 "cells": [
  {
   "cell_type": "markdown",
   "id": "1fc2d446",
   "metadata": {},
   "source": [
    "## DESCRIPTION:"
   ]
  },
  {
   "cell_type": "markdown",
   "id": "6f194fb6",
   "metadata": {},
   "source": [
    "Clock shows h hours, m minutes and s seconds after midnight.\n",
    "\n",
    "Your task is to write a function which returns the time since midnight in milliseconds.\n",
    "\n",
    "**Example:**\n",
    "```\n",
    "h = 0\n",
    "m = 1\n",
    "s = 1\n",
    "\n",
    "result = 61000\n",
    "```"
   ]
  },
  {
   "cell_type": "markdown",
   "id": "b7931556",
   "metadata": {},
   "source": [
    "### Solution:"
   ]
  },
  {
   "cell_type": "code",
   "execution_count": 1,
   "id": "1a838995",
   "metadata": {},
   "outputs": [],
   "source": [
    "def past(h, m, s):\n",
    "    return (h * 3600 + m * 60 + s) * 1000\n"
   ]
  },
  {
   "cell_type": "markdown",
   "id": "42caff57",
   "metadata": {},
   "source": [
    "### Sample Tests:"
   ]
  },
  {
   "cell_type": "code",
   "execution_count": 2,
   "id": "fba0442d",
   "metadata": {},
   "outputs": [
    {
     "name": "stdout",
     "output_type": "stream",
     "text": [
      "True\n",
      "True\n",
      "True\n",
      "True\n",
      "True\n"
     ]
    }
   ],
   "source": [
    "print(past(0, 1, 1) == 61000)\n",
    "print(past(1, 1, 1) == 3661000)\n",
    "print(past(0, 0, 0) == 0)\n",
    "print(past(1, 0, 1) == 3601000)\n",
    "print(past(1, 0, 0) == 3600000)"
   ]
  }
 ],
 "metadata": {
  "kernelspec": {
   "display_name": "Python 3 (ipykernel)",
   "language": "python",
   "name": "python3"
  },
  "language_info": {
   "codemirror_mode": {
    "name": "ipython",
    "version": 3
   },
   "file_extension": ".py",
   "mimetype": "text/x-python",
   "name": "python",
   "nbconvert_exporter": "python",
   "pygments_lexer": "ipython3",
   "version": "3.10.12"
  }
 },
 "nbformat": 4,
 "nbformat_minor": 5
}
