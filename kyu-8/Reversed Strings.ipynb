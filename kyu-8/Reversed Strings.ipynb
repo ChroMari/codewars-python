{
 "cells": [
  {
   "cell_type": "markdown",
   "id": "1e51418f",
   "metadata": {},
   "source": [
    "## DESCRIPTION:"
   ]
  },
  {
   "cell_type": "markdown",
   "id": "9a8070b9",
   "metadata": {},
   "source": [
    "Complete the solution so that it reverses the string passed into it.\n",
    "<code>\n",
    "'world'  =>  'dlrow'\n",
    "'word'   =>  'drow' </code>\n"
   ]
  },
  {
   "cell_type": "markdown",
   "id": "407cb230",
   "metadata": {},
   "source": [
    "### Solution:"
   ]
  },
  {
   "cell_type": "code",
   "execution_count": 1,
   "id": "7792d432",
   "metadata": {},
   "outputs": [],
   "source": [
    "def solution(string):\n",
    "    return string[::-1]\n"
   ]
  },
  {
   "cell_type": "markdown",
   "id": "3e0f60e6",
   "metadata": {},
   "source": [
    "### Sample Tests:"
   ]
  },
  {
   "cell_type": "code",
   "execution_count": 2,
   "id": "960e1109",
   "metadata": {},
   "outputs": [
    {
     "name": "stdout",
     "output_type": "stream",
     "text": [
      "True\n",
      "True\n",
      "True\n",
      "True\n"
     ]
    }
   ],
   "source": [
    "print(solution('world') == 'dlrow')\n",
    "print(solution('hello') == 'olleh')\n",
    "print(solution('') == '')\n",
    "print(solution('h') == 'h')"
   ]
  }
 ],
 "metadata": {
  "kernelspec": {
   "display_name": "Python 3 (ipykernel)",
   "language": "python",
   "name": "python3"
  },
  "language_info": {
   "codemirror_mode": {
    "name": "ipython",
    "version": 3
   },
   "file_extension": ".py",
   "mimetype": "text/x-python",
   "name": "python",
   "nbconvert_exporter": "python",
   "pygments_lexer": "ipython3",
   "version": "3.10.12"
  }
 },
 "nbformat": 4,
 "nbformat_minor": 5
}
