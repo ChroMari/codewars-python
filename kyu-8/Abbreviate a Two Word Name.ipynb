{
 "cells": [
  {
   "cell_type": "markdown",
   "id": "035c2f6d",
   "metadata": {},
   "source": [
    "## DESCRIPTION:"
   ]
  },
  {
   "cell_type": "markdown",
   "id": "17384770",
   "metadata": {},
   "source": [
    "Write a function to convert a name into initials. This kata strictly takes two words with one space in between them.\n",
    "\n",
    "The output should be two capital letters with a dot separating them.\n",
    "\n",
    "It should look like this:\n",
    "\n",
    "Example:\n",
    "<code>\n",
    "Sam Harris => S.H\n",
    "patrick feeney => P.F </code>"
   ]
  },
  {
   "cell_type": "markdown",
   "id": "309eb4c7",
   "metadata": {},
   "source": [
    "### Solution:"
   ]
  },
  {
   "cell_type": "code",
   "execution_count": 1,
   "id": "46522529",
   "metadata": {},
   "outputs": [],
   "source": [
    "def abbrev_name(name):\n",
    "    first, last = name.split(' ')\n",
    "    return f'{first[0].upper()}.{last[0].upper()}'\n"
   ]
  },
  {
   "cell_type": "markdown",
   "id": "4bbfc558",
   "metadata": {},
   "source": [
    "### Sample Tests:"
   ]
  },
  {
   "cell_type": "code",
   "execution_count": 2,
   "id": "3f700dca",
   "metadata": {},
   "outputs": [
    {
     "name": "stdout",
     "output_type": "stream",
     "text": [
      "True\n",
      "True\n",
      "True\n",
      "True\n",
      "True\n"
     ]
    }
   ],
   "source": [
    "print(abbrev_name(\"Sam Harris\") == \"S.H\")\n",
    "print(abbrev_name(\"patrick feenan\") == \"P.F\")\n",
    "print(abbrev_name(\"Evan C\") == \"E.C\")\n",
    "print(abbrev_name(\"P Favuzzi\") == \"P.F\")\n",
    "print(abbrev_name(\"David Mendieta\") == \"D.M\")"
   ]
  },
  {
   "cell_type": "markdown",
   "id": "da5d330b",
   "metadata": {},
   "source": [
    "### Best Practices:"
   ]
  },
  {
   "cell_type": "code",
   "execution_count": 3,
   "id": "fcf430b4",
   "metadata": {},
   "outputs": [],
   "source": [
    "def abbrevName(name):\n",
    "    first, last = name.upper().split(' ')\n",
    "    return first[0] + '.' + last[0]\n"
   ]
  }
 ],
 "metadata": {
  "kernelspec": {
   "display_name": "Python 3 (ipykernel)",
   "language": "python",
   "name": "python3"
  },
  "language_info": {
   "codemirror_mode": {
    "name": "ipython",
    "version": 3
   },
   "file_extension": ".py",
   "mimetype": "text/x-python",
   "name": "python",
   "nbconvert_exporter": "python",
   "pygments_lexer": "ipython3",
   "version": "3.10.12"
  }
 },
 "nbformat": 4,
 "nbformat_minor": 5
}
