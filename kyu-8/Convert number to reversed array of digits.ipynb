{
 "cells": [
  {
   "cell_type": "markdown",
   "id": "5e10900c",
   "metadata": {},
   "source": [
    "## DESCRIPTION:"
   ]
  },
  {
   "cell_type": "markdown",
   "id": "0fa6ade5",
   "metadata": {},
   "source": [
    "**Convert number to reversed array of digits**\n",
    "\n",
    "Given a random non-negative number, you have to return the digits of this number within an array in reverse order.\n",
    "\n",
    "**Example(Input => Output):**\n",
    "\n",
    "```\n",
    "35231 => [1,3,2,5,3]\n",
    "0 => [0]\n",
    "```"
   ]
  },
  {
   "cell_type": "markdown",
   "id": "80d94bb7",
   "metadata": {},
   "source": [
    "### Solution:"
   ]
  },
  {
   "cell_type": "code",
   "execution_count": 1,
   "id": "4c08801e",
   "metadata": {},
   "outputs": [],
   "source": [
    "def digitize(n):\n",
    "    n = str(n)\n",
    "    result = [int(elem) for elem in n]\n",
    "    return result[::-1]\n"
   ]
  },
  {
   "cell_type": "markdown",
   "id": "e89ed744",
   "metadata": {},
   "source": [
    "### Sample Tests:"
   ]
  },
  {
   "cell_type": "code",
   "execution_count": 2,
   "id": "e5cbf7ce",
   "metadata": {},
   "outputs": [
    {
     "name": "stdout",
     "output_type": "stream",
     "text": [
      "True\n",
      "True\n",
      "True\n",
      "True\n",
      "True\n",
      "True\n"
     ]
    }
   ],
   "source": [
    "print(digitize(35231) == [1,3,2,5,3])\n",
    "print(digitize(0) == [0])\n",
    "print(digitize(23582357) == [7,5,3,2,8,5,3,2])\n",
    "print(digitize(984764738) == [8,3,7,4,6,7,4,8,9])\n",
    "print(digitize(45762893920) == [0,2,9,3,9,8,2,6,7,5,4])\n",
    "print(digitize(548702838394) == [4,9,3,8,3,8,2,0,7,8,4,5])"
   ]
  },
  {
   "cell_type": "markdown",
   "id": "3846a8ba",
   "metadata": {},
   "source": [
    "### Best Practices:"
   ]
  },
  {
   "cell_type": "code",
   "execution_count": 3,
   "id": "d4a42252",
   "metadata": {},
   "outputs": [],
   "source": [
    "def digitize(n):\n",
    "    return map(int, str(n)[::-1])\n"
   ]
  }
 ],
 "metadata": {
  "kernelspec": {
   "display_name": "Python 3 (ipykernel)",
   "language": "python",
   "name": "python3"
  },
  "language_info": {
   "codemirror_mode": {
    "name": "ipython",
    "version": 3
   },
   "file_extension": ".py",
   "mimetype": "text/x-python",
   "name": "python",
   "nbconvert_exporter": "python",
   "pygments_lexer": "ipython3",
   "version": "3.10.12"
  }
 },
 "nbformat": 4,
 "nbformat_minor": 5
}
