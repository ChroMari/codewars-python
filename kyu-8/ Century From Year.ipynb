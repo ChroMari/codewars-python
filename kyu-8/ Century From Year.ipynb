{
 "cells": [
  {
   "cell_type": "markdown",
   "id": "27005448",
   "metadata": {},
   "source": [
    "## DESCRIPTION:"
   ]
  },
  {
   "cell_type": "markdown",
   "id": "f22037fc",
   "metadata": {},
   "source": [
    "**Introduction**\n",
    "The first century spans from the year 1 up to and including the year 100, the second century - from the year 101 up to and including the year 200, etc.\n",
    "\n",
    "**Task**\n",
    "Given a year, return the century it is in.\n",
    "\n",
    "Examples:\n",
    "<code>\n",
    "1705 --> 18\n",
    "1900 --> 19\n",
    "1601 --> 17\n",
    "2000 --> 20</code>\n",
    "\n",
    "Note: this kata uses strict construction as shown in the description and the examples, you can read more about it here\n",
    "\n"
   ]
  },
  {
   "cell_type": "markdown",
   "id": "4b8bb8c1",
   "metadata": {},
   "source": [
    "### Solution:"
   ]
  },
  {
   "cell_type": "code",
   "execution_count": 1,
   "id": "7ee237a9",
   "metadata": {},
   "outputs": [],
   "source": [
    "import math\n",
    "\n",
    "def century(year):\n",
    "    return math.ceil(year / 100)\n"
   ]
  },
  {
   "cell_type": "markdown",
   "id": "d6fcf823",
   "metadata": {},
   "source": [
    "### Sample Tests:"
   ]
  },
  {
   "cell_type": "code",
   "execution_count": 2,
   "id": "e6d3230e",
   "metadata": {},
   "outputs": [
    {
     "name": "stdout",
     "output_type": "stream",
     "text": [
      "True\n",
      "True\n",
      "True\n",
      "True\n",
      "True\n",
      "True\n"
     ]
    }
   ],
   "source": [
    "print(century(1705) == 18)\n",
    "print(century(1900) == 19)\n",
    "print(century(1601) == 17)\n",
    "print(century(2000) == 20)\n",
    "print(century(356) == 4)\n",
    "print(century(89) == 1)"
   ]
  },
  {
   "cell_type": "markdown",
   "id": "ea07936b",
   "metadata": {},
   "source": [
    "### Best Practices:"
   ]
  },
  {
   "cell_type": "code",
   "execution_count": 3,
   "id": "73ba9dc8",
   "metadata": {},
   "outputs": [],
   "source": [
    "def century(year):\n",
    "    return (year + 99) // 100\n"
   ]
  }
 ],
 "metadata": {
  "kernelspec": {
   "display_name": "Python 3 (ipykernel)",
   "language": "python",
   "name": "python3"
  },
  "language_info": {
   "codemirror_mode": {
    "name": "ipython",
    "version": 3
   },
   "file_extension": ".py",
   "mimetype": "text/x-python",
   "name": "python",
   "nbconvert_exporter": "python",
   "pygments_lexer": "ipython3",
   "version": "3.10.12"
  }
 },
 "nbformat": 4,
 "nbformat_minor": 5
}
