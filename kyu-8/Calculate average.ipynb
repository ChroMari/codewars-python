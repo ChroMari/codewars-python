{
 "cells": [
  {
   "cell_type": "markdown",
   "id": "a5551857",
   "metadata": {},
   "source": [
    "## DESCRIPTION:"
   ]
  },
  {
   "cell_type": "markdown",
   "id": "fbf0bf57",
   "metadata": {},
   "source": [
    "Write a function which calculates the average of the numbers in a given list.\n",
    "\n",
    "Note: Empty arrays should return 0."
   ]
  },
  {
   "cell_type": "markdown",
   "id": "44e4f6aa",
   "metadata": {},
   "source": [
    "### Solution:"
   ]
  },
  {
   "cell_type": "code",
   "execution_count": 1,
   "id": "88530cf4",
   "metadata": {},
   "outputs": [],
   "source": [
    "def find_average(numbers):\n",
    "    count = len(numbers)\n",
    "    if count == 0:\n",
    "        return 0\n",
    "    return sum(numbers) / count\n"
   ]
  },
  {
   "cell_type": "markdown",
   "id": "10e93548",
   "metadata": {},
   "source": [
    "### Sample Tests:"
   ]
  },
  {
   "cell_type": "code",
   "execution_count": 3,
   "id": "c4dac317",
   "metadata": {},
   "outputs": [
    {
     "name": "stdout",
     "output_type": "stream",
     "text": [
      "True\n",
      "True\n",
      "True\n"
     ]
    }
   ],
   "source": [
    "print(find_average([1, 2, 3]) == 2)\n",
    "print(find_average([]) == 0)\n",
    "print(find_average([1, 2]) == 1.5)"
   ]
  },
  {
   "cell_type": "markdown",
   "id": "5cd4f990",
   "metadata": {},
   "source": [
    "### Best Practices:"
   ]
  },
  {
   "cell_type": "code",
   "execution_count": 4,
   "id": "68454a35",
   "metadata": {},
   "outputs": [],
   "source": [
    "def find_average(array):\n",
    "    return sum(array) / len(array) if array else 0"
   ]
  }
 ],
 "metadata": {
  "kernelspec": {
   "display_name": "Python 3 (ipykernel)",
   "language": "python",
   "name": "python3"
  },
  "language_info": {
   "codemirror_mode": {
    "name": "ipython",
    "version": 3
   },
   "file_extension": ".py",
   "mimetype": "text/x-python",
   "name": "python",
   "nbconvert_exporter": "python",
   "pygments_lexer": "ipython3",
   "version": "3.10.12"
  }
 },
 "nbformat": 4,
 "nbformat_minor": 5
}
