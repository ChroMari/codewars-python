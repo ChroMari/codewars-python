{
 "cells": [
  {
   "cell_type": "markdown",
   "id": "e90981f8",
   "metadata": {},
   "source": [
    "## DESCRIPTION:"
   ]
  },
  {
   "cell_type": "markdown",
   "id": "745f0dd5",
   "metadata": {},
   "source": [
    "**Summation**\n",
    "\n",
    "Write a program that finds the summation of every number from 1 to num. The number will always be a positive integer greater than 0.\n",
    "\n",
    "For example (Input -> Output):\n",
    "<code>\n",
    "2 -> 3 (1 + 2)\n",
    "8 -> 36 (1 + 2 + 3 + 4 + 5 + 6 + 7 + 8)</code>\n"
   ]
  },
  {
   "cell_type": "code",
   "execution_count": 1,
   "id": "be24a58b",
   "metadata": {},
   "outputs": [],
   "source": [
    "def summation(num):\n",
    "    return sum([i for i in range(1, num + 1)])\n"
   ]
  },
  {
   "cell_type": "markdown",
   "id": "b458e471",
   "metadata": {},
   "source": [
    "### Sample Tests:"
   ]
  },
  {
   "cell_type": "code",
   "execution_count": 3,
   "id": "13bec6fc",
   "metadata": {},
   "outputs": [
    {
     "name": "stdout",
     "output_type": "stream",
     "text": [
      "True\n",
      "True\n",
      "True\n",
      "True\n",
      "True\n"
     ]
    }
   ],
   "source": [
    "print(summation(1) == 1)\n",
    "print(summation(8) == 36)\n",
    "print(summation(22) == 253)\n",
    "print(summation(100) == 5050)\n",
    "print(summation(213) == 22791)"
   ]
  },
  {
   "cell_type": "markdown",
   "id": "9bac010a",
   "metadata": {},
   "source": [
    "### Best Practices:"
   ]
  },
  {
   "cell_type": "code",
   "execution_count": 5,
   "id": "9c6823ca",
   "metadata": {},
   "outputs": [],
   "source": [
    "def summation(num):\n",
    "    return sum(range(1, num + 1))\n"
   ]
  }
 ],
 "metadata": {
  "kernelspec": {
   "display_name": "Python 3 (ipykernel)",
   "language": "python",
   "name": "python3"
  },
  "language_info": {
   "codemirror_mode": {
    "name": "ipython",
    "version": 3
   },
   "file_extension": ".py",
   "mimetype": "text/x-python",
   "name": "python",
   "nbconvert_exporter": "python",
   "pygments_lexer": "ipython3",
   "version": "3.10.12"
  }
 },
 "nbformat": 4,
 "nbformat_minor": 5
}
