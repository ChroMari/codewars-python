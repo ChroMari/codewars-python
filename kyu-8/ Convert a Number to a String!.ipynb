{
 "cells": [
  {
   "cell_type": "markdown",
   "id": "89d3e876",
   "metadata": {},
   "source": [
    "## DESCRIPTION:"
   ]
  },
  {
   "cell_type": "markdown",
   "id": "e2f05e79",
   "metadata": {},
   "source": [
    "We need a function that can transform a number (integer) into a string.\n",
    "\n",
    "What ways of achieving this do you know?\n",
    "\n",
    "**Examples (input --> output):**\n",
    "<code>\n",
    "123  --> \"123\"\n",
    "999  --> \"999\"\n",
    "-100 --> \"-100\"</code>"
   ]
  },
  {
   "cell_type": "markdown",
   "id": "beb38e12",
   "metadata": {},
   "source": [
    "### Solution:"
   ]
  },
  {
   "cell_type": "code",
   "execution_count": 1,
   "id": "4cda184c",
   "metadata": {},
   "outputs": [],
   "source": [
    "def number_to_string(num):\n",
    "    return str(num)\n"
   ]
  },
  {
   "cell_type": "markdown",
   "id": "d53d09bf",
   "metadata": {},
   "source": [
    "### Sample Tests:"
   ]
  },
  {
   "cell_type": "code",
   "execution_count": 2,
   "id": "24827d1f",
   "metadata": {},
   "outputs": [
    {
     "name": "stdout",
     "output_type": "stream",
     "text": [
      "True\n",
      "True\n",
      "True\n",
      "True\n",
      "True\n"
     ]
    }
   ],
   "source": [
    "print(number_to_string(67) == '67')\n",
    "print(number_to_string(79585) == '79585')\n",
    "print(number_to_string(79585) == \"79585\")\n",
    "print(number_to_string(1+2) == '3')\n",
    "print(number_to_string(1-2) == '-1')"
   ]
  }
 ],
 "metadata": {
  "kernelspec": {
   "display_name": "Python 3 (ipykernel)",
   "language": "python",
   "name": "python3"
  },
  "language_info": {
   "codemirror_mode": {
    "name": "ipython",
    "version": 3
   },
   "file_extension": ".py",
   "mimetype": "text/x-python",
   "name": "python",
   "nbconvert_exporter": "python",
   "pygments_lexer": "ipython3",
   "version": "3.10.12"
  }
 },
 "nbformat": 4,
 "nbformat_minor": 5
}
