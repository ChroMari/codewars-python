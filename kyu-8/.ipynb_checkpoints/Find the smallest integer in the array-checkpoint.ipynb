{
 "cells": [
  {
   "cell_type": "markdown",
   "id": "e240e6d8",
   "metadata": {},
   "source": [
    "## DESCRIPTION:"
   ]
  },
  {
   "cell_type": "markdown",
   "id": "746edf1c",
   "metadata": {},
   "source": [
    "Given an array of integers your solution should find the smallest integer.\n",
    "\n",
    "For example:\n",
    "<code>\n",
    "Given [34, 15, 88, 2] your solution will return 2\n",
    "Given [34, -345, -1, 100] your solution will return -345</code>\n",
    "\n",
    "You can assume, for the purpose of this kata, that the supplied array will not be empty."
   ]
  },
  {
   "cell_type": "markdown",
   "id": "72e18177",
   "metadata": {},
   "source": [
    "### Solution:"
   ]
  },
  {
   "cell_type": "code",
   "execution_count": 2,
   "id": "b8a62314",
   "metadata": {},
   "outputs": [],
   "source": [
    "def find_smallest_int(arr):\n",
    "    return min(arr)\n"
   ]
  },
  {
   "cell_type": "markdown",
   "id": "a130b09e",
   "metadata": {},
   "source": [
    "### Sample Tests:"
   ]
  },
  {
   "cell_type": "code",
   "execution_count": 3,
   "id": "299aa2cf",
   "metadata": {},
   "outputs": [
    {
     "name": "stdout",
     "output_type": "stream",
     "text": [
      "True\n",
      "True\n",
      "True\n"
     ]
    }
   ],
   "source": [
    "print(find_smallest_int([78, 56, 232, 12, 11, 43]) == 11)\n",
    "print(find_smallest_int([78, 56, -2, 12, 8, -33]) == -33)\n",
    "print(find_smallest_int([0, 1-2**64, 2**64]) == 1-2**64)"
   ]
  }
 ],
 "metadata": {
  "kernelspec": {
   "display_name": "Python 3 (ipykernel)",
   "language": "python",
   "name": "python3"
  },
  "language_info": {
   "codemirror_mode": {
    "name": "ipython",
    "version": 3
   },
   "file_extension": ".py",
   "mimetype": "text/x-python",
   "name": "python",
   "nbconvert_exporter": "python",
   "pygments_lexer": "ipython3",
   "version": "3.10.12"
  }
 },
 "nbformat": 4,
 "nbformat_minor": 5
}
