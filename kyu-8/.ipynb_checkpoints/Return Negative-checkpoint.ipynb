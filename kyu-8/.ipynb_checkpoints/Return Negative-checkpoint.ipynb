{
 "cells": [
  {
   "cell_type": "markdown",
   "id": "b3bb6be6",
   "metadata": {},
   "source": [
    "## DESCRIPTION:"
   ]
  },
  {
   "cell_type": "markdown",
   "id": "792e6fe1",
   "metadata": {},
   "source": [
    "In this simple assignment you are given a number and have to make it negative. But maybe the number is already negative?\n",
    "\n",
    "**Examples**\n",
    "<code>\n",
    "make_negative(1);  # return -1\n",
    "make_negative(-5); # return -5\n",
    "make_negative(0);  # return 0</code>\n",
    "\n",
    "**Notes**\n",
    "* The number can be negative already, in which case no change is required.\n",
    "* Zero (0) is not checked for any specific sign. Negative zeros make no mathematical sense."
   ]
  },
  {
   "cell_type": "markdown",
   "id": "01e51c62",
   "metadata": {},
   "source": [
    "### Solution:"
   ]
  },
  {
   "cell_type": "code",
   "execution_count": 1,
   "id": "56d6e743",
   "metadata": {},
   "outputs": [],
   "source": [
    "def make_negative( number ):\n",
    "    return -number if number > 0 else number\n"
   ]
  },
  {
   "cell_type": "markdown",
   "id": "fae31e3a",
   "metadata": {},
   "source": [
    "### Sample Tests:"
   ]
  },
  {
   "cell_type": "code",
   "execution_count": 2,
   "id": "1cc27ace",
   "metadata": {},
   "outputs": [
    {
     "name": "stdout",
     "output_type": "stream",
     "text": [
      "True\n",
      "True\n",
      "True\n"
     ]
    }
   ],
   "source": [
    "print(make_negative(42) == -42)\n",
    "print(make_negative(-9) == -9)\n",
    "print(make_negative(0) == 0)"
   ]
  },
  {
   "cell_type": "markdown",
   "id": "ea44d3a0",
   "metadata": {},
   "source": [
    "### Best Practices:"
   ]
  },
  {
   "cell_type": "code",
   "execution_count": 3,
   "id": "1de558cc",
   "metadata": {},
   "outputs": [],
   "source": [
    "def make_negative( number ):\n",
    "    return -abs(number)\n"
   ]
  }
 ],
 "metadata": {
  "kernelspec": {
   "display_name": "Python 3 (ipykernel)",
   "language": "python",
   "name": "python3"
  },
  "language_info": {
   "codemirror_mode": {
    "name": "ipython",
    "version": 3
   },
   "file_extension": ".py",
   "mimetype": "text/x-python",
   "name": "python",
   "nbconvert_exporter": "python",
   "pygments_lexer": "ipython3",
   "version": "3.10.12"
  }
 },
 "nbformat": 4,
 "nbformat_minor": 5
}
