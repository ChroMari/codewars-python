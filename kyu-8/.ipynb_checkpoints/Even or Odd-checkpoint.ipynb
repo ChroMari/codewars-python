{
 "cells": [
  {
   "cell_type": "markdown",
   "id": "5ff03a7a",
   "metadata": {},
   "source": [
    "## DESCRIPTION:"
   ]
  },
  {
   "cell_type": "markdown",
   "id": "cb461228",
   "metadata": {},
   "source": [
    "Create a function that takes an integer as an argument and returns **\"Even\"** for even numbers or **\"Odd\"** for odd numbers."
   ]
  },
  {
   "cell_type": "markdown",
   "id": "345f1604",
   "metadata": {},
   "source": [
    "### Solution:"
   ]
  },
  {
   "cell_type": "code",
   "execution_count": 1,
   "id": "3a7ea8d6",
   "metadata": {},
   "outputs": [],
   "source": [
    "def even_or_odd(number):\n",
    "    if not number % 2:\n",
    "        return(\"Even\")\n",
    "    else:\n",
    "        return(\"Odd\")\n"
   ]
  },
  {
   "cell_type": "markdown",
   "id": "71361624",
   "metadata": {},
   "source": [
    "### Sample Tests:"
   ]
  },
  {
   "cell_type": "code",
   "execution_count": 3,
   "id": "9df44463",
   "metadata": {},
   "outputs": [
    {
     "name": "stdout",
     "output_type": "stream",
     "text": [
      "True\n",
      "True\n",
      "True\n",
      "True\n",
      "True\n",
      "True\n",
      "True\n",
      "True\n",
      "True\n",
      "True\n",
      "True\n"
     ]
    }
   ],
   "source": [
    "print(even_or_odd(2) == \"Even\")\n",
    "print(even_or_odd(1) == \"Odd\")\n",
    "print(even_or_odd(0) == \"Even\")\n",
    "print(even_or_odd(1545452) == \"Even\")\n",
    "print(even_or_odd(7) == \"Odd\")\n",
    "print(even_or_odd(78) == \"Even\")\n",
    "print(even_or_odd(17) == \"Odd\")\n",
    "print(even_or_odd(74156741) == \"Odd\")\n",
    "print(even_or_odd(100000) == \"Even\")\n",
    "print(even_or_odd(-123) == \"Odd\")\n",
    "print(even_or_odd(-456) == \"Even\")"
   ]
  },
  {
   "cell_type": "markdown",
   "id": "e6281d3c",
   "metadata": {},
   "source": [
    "### Best Practices:"
   ]
  },
  {
   "cell_type": "code",
   "execution_count": 5,
   "id": "7d97f246",
   "metadata": {},
   "outputs": [],
   "source": [
    "def even_or_odd(number):\n",
    "    return \"Odd\" if number % 2 else \"Even\"\n"
   ]
  }
 ],
 "metadata": {
  "kernelspec": {
   "display_name": "Python 3 (ipykernel)",
   "language": "python",
   "name": "python3"
  },
  "language_info": {
   "codemirror_mode": {
    "name": "ipython",
    "version": 3
   },
   "file_extension": ".py",
   "mimetype": "text/x-python",
   "name": "python",
   "nbconvert_exporter": "python",
   "pygments_lexer": "ipython3",
   "version": "3.10.12"
  }
 },
 "nbformat": 4,
 "nbformat_minor": 5
}
