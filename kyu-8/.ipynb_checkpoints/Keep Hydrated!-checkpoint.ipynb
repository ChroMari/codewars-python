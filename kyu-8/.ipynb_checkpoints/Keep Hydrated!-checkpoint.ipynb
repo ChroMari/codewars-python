{
 "cells": [
  {
   "cell_type": "markdown",
   "id": "d148e092",
   "metadata": {},
   "source": [
    "## DESCRIPTION:"
   ]
  },
  {
   "cell_type": "markdown",
   "id": "cc79d806",
   "metadata": {},
   "source": [
    "Nathan loves cycling.\n",
    "\n",
    "Because Nathan knows it is important to stay hydrated, he drinks 0.5 litres of water per hour of cycling.\n",
    "\n",
    "You get given the time in hours and you need to return the number of litres Nathan will drink, rounded to the smallest value.\n",
    "\n",
    "For example:\n",
    "<code>\n",
    "time = 3 ----> litres = 1\n",
    "time = 6.7---> litres = 3\n",
    "time = 11.8--> litres = 5 </code>"
   ]
  },
  {
   "cell_type": "markdown",
   "id": "efa746a6",
   "metadata": {},
   "source": [
    "### Solution:"
   ]
  },
  {
   "cell_type": "code",
   "execution_count": 1,
   "id": "090589c2",
   "metadata": {},
   "outputs": [],
   "source": [
    "def litres(time):\n",
    "    return int(time * 0.5)\n"
   ]
  },
  {
   "cell_type": "markdown",
   "id": "65e30ada",
   "metadata": {},
   "source": [
    "### Sample Tests:"
   ]
  },
  {
   "cell_type": "code",
   "execution_count": 2,
   "id": "ed1e768a",
   "metadata": {},
   "outputs": [
    {
     "name": "stdout",
     "output_type": "stream",
     "text": [
      "True\n",
      "True\n",
      "True\n",
      "True\n",
      "True\n",
      "True\n",
      "True\n"
     ]
    }
   ],
   "source": [
    "print(litres(2) == 1)\n",
    "print(litres(1.4) == 0)\n",
    "print(litres(12.3) == 6)\n",
    "print(litres(0.82) == 0)\n",
    "print(litres(11.8) == 5)\n",
    "print(litres(1787) == 893)\n",
    "print(litres(0) == 0)"
   ]
  }
 ],
 "metadata": {
  "kernelspec": {
   "display_name": "Python 3 (ipykernel)",
   "language": "python",
   "name": "python3"
  },
  "language_info": {
   "codemirror_mode": {
    "name": "ipython",
    "version": 3
   },
   "file_extension": ".py",
   "mimetype": "text/x-python",
   "name": "python",
   "nbconvert_exporter": "python",
   "pygments_lexer": "ipython3",
   "version": "3.10.12"
  }
 },
 "nbformat": 4,
 "nbformat_minor": 5
}
