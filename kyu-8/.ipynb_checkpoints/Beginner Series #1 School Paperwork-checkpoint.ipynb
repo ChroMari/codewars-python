{
 "cells": [
  {
   "cell_type": "markdown",
   "id": "9487d045",
   "metadata": {},
   "source": [
    "## DESCRIPTION:"
   ]
  },
  {
   "cell_type": "markdown",
   "id": "a3c1dd96",
   "metadata": {},
   "source": [
    "Your classmates asked you to copy some paperwork for them. You know that there are 'n' classmates and the paperwork has 'm' pages.\n",
    "\n",
    "Your task is to calculate how many blank pages do you need. If n < 0 or m < 0 return 0.\n",
    "\n",
    "**Example:**\n",
    "```\n",
    "n= 5, m=5: 25\n",
    "n=-5, m=5:  0\n",
    "```\n",
    "Waiting for translations and Feedback! Thanks!"
   ]
  },
  {
   "cell_type": "markdown",
   "id": "d27c8c9e",
   "metadata": {},
   "source": [
    "### Solution:"
   ]
  },
  {
   "cell_type": "code",
   "execution_count": 1,
   "id": "12dd1777",
   "metadata": {},
   "outputs": [],
   "source": [
    "def paperwork(n, m):\n",
    "    if n < 0 or m < 0:\n",
    "        return 0\n",
    "    return n * m\n"
   ]
  },
  {
   "cell_type": "markdown",
   "id": "3855da61",
   "metadata": {},
   "source": [
    "### Sample Tests:"
   ]
  },
  {
   "cell_type": "code",
   "execution_count": 2,
   "id": "63869014",
   "metadata": {},
   "outputs": [
    {
     "name": "stdout",
     "output_type": "stream",
     "text": [
      "True\n",
      "True\n",
      "True\n",
      "True\n",
      "True\n",
      "True\n"
     ]
    }
   ],
   "source": [
    "print(paperwork(5, 5) == 25)\n",
    "print(paperwork(1, 2) == 2)\n",
    "print(paperwork(-5, 5) == 0)\n",
    "print(paperwork(5, -5) == 0)\n",
    "print(paperwork(-5, -5) == 0)\n",
    "print(paperwork(5, 0) == 0)"
   ]
  },
  {
   "cell_type": "markdown",
   "id": "9927472f",
   "metadata": {},
   "source": [
    "### Best Practices:"
   ]
  },
  {
   "cell_type": "code",
   "execution_count": 3,
   "id": "7fd6e079",
   "metadata": {},
   "outputs": [],
   "source": [
    "def paperwork(n, m):\n",
    "    return n * m if n > 0 and m > 0 else 0\n"
   ]
  }
 ],
 "metadata": {
  "kernelspec": {
   "display_name": "Python 3 (ipykernel)",
   "language": "python",
   "name": "python3"
  },
  "language_info": {
   "codemirror_mode": {
    "name": "ipython",
    "version": 3
   },
   "file_extension": ".py",
   "mimetype": "text/x-python",
   "name": "python",
   "nbconvert_exporter": "python",
   "pygments_lexer": "ipython3",
   "version": "3.10.12"
  }
 },
 "nbformat": 4,
 "nbformat_minor": 5
}
