{
 "cells": [
  {
   "cell_type": "markdown",
   "id": "6bf46605",
   "metadata": {},
   "source": [
    "## DESCRIPTION:"
   ]
  },
  {
   "cell_type": "markdown",
   "id": "f4cfa818",
   "metadata": {},
   "source": [
    "You get an array of numbers, return the sum of all of the positives ones.\n",
    "\n",
    "`Example [1,-4,7,12] => 1 + 7 + 12 = 20`\n",
    "\n",
    "Note: if there is nothing to sum, the sum is default to 0."
   ]
  },
  {
   "cell_type": "markdown",
   "id": "5d4423c4",
   "metadata": {},
   "source": [
    "### Solution:"
   ]
  },
  {
   "cell_type": "code",
   "execution_count": 3,
   "id": "56eee3c8",
   "metadata": {},
   "outputs": [],
   "source": [
    "def positive_sum(arr):\n",
    "    sum = 0\n",
    "    \n",
    "    for item in arr:\n",
    "        if item >= 0:\n",
    "            sum += item\n",
    "            \n",
    "    return sum\n"
   ]
  },
  {
   "cell_type": "markdown",
   "id": "ad0630e3",
   "metadata": {},
   "source": [
    "### Sample Tests:"
   ]
  },
  {
   "cell_type": "code",
   "execution_count": 4,
   "id": "3a782226",
   "metadata": {},
   "outputs": [
    {
     "name": "stdout",
     "output_type": "stream",
     "text": [
      "True\n",
      "True\n",
      "True\n",
      "True\n",
      "True\n"
     ]
    }
   ],
   "source": [
    "print(positive_sum([1,2,3,4,5]) == 15)\n",
    "print(positive_sum([1,-2,3,4,5]) == 13)\n",
    "print(positive_sum([-1,2,3,4,-5]) == 9)\n",
    "print(positive_sum([]) == 0)  \n",
    "print(positive_sum([-1,-2,-3,-4,-5]) == 0)"
   ]
  },
  {
   "cell_type": "markdown",
   "id": "a990cb17",
   "metadata": {},
   "source": [
    "### Best Practices:"
   ]
  },
  {
   "cell_type": "code",
   "execution_count": 5,
   "id": "c2286510",
   "metadata": {},
   "outputs": [],
   "source": [
    "def positive_sum(arr):\n",
    "    return sum(x for x in arr if x > 0)\n"
   ]
  }
 ],
 "metadata": {
  "kernelspec": {
   "display_name": "Python 3 (ipykernel)",
   "language": "python",
   "name": "python3"
  },
  "language_info": {
   "codemirror_mode": {
    "name": "ipython",
    "version": 3
   },
   "file_extension": ".py",
   "mimetype": "text/x-python",
   "name": "python",
   "nbconvert_exporter": "python",
   "pygments_lexer": "ipython3",
   "version": "3.10.12"
  }
 },
 "nbformat": 4,
 "nbformat_minor": 5
}
