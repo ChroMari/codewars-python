{
 "cells": [
  {
   "cell_type": "markdown",
   "id": "032001e2",
   "metadata": {},
   "source": [
    "## DESCRIPTION:"
   ]
  },
  {
   "cell_type": "markdown",
   "id": "e9c92b16",
   "metadata": {},
   "source": [
    "Note: This kata is inspired by Convert a Number to a String!. Try that one too.\n",
    "\n",
    "**Description**\n",
    "We need a function that can transform a string into a number. What ways of achieving this do you know?\n",
    "\n",
    "Note: Don't worry, all inputs will be strings, and every string is a perfectly valid representation of an integral number.\n",
    "\n",
    "Examples:\n",
    "<code>\n",
    "\"1234\" --> 1234\n",
    "\"605\"  --> 605\n",
    "\"1405\" --> 1405\n",
    "\"-7\" --> -7 </code>"
   ]
  },
  {
   "cell_type": "markdown",
   "id": "793560bc",
   "metadata": {},
   "source": [
    "### Solution:"
   ]
  },
  {
   "cell_type": "code",
   "execution_count": 1,
   "id": "5c519b58",
   "metadata": {},
   "outputs": [],
   "source": [
    "def string_to_number(s):\n",
    "    return int(s)\n"
   ]
  },
  {
   "cell_type": "markdown",
   "id": "0082a0f9",
   "metadata": {},
   "source": [
    "### Sample Tests:"
   ]
  },
  {
   "cell_type": "code",
   "execution_count": 2,
   "id": "7bca5118",
   "metadata": {},
   "outputs": [
    {
     "name": "stdout",
     "output_type": "stream",
     "text": [
      "True\n",
      "True\n",
      "True\n",
      "True\n"
     ]
    }
   ],
   "source": [
    "print(string_to_number(\"1234\") == 1234)\n",
    "print(string_to_number(\"605\") == 605)\n",
    "print(string_to_number(\"1405\") == 1405)\n",
    "print(string_to_number(\"-7\") == -7)"
   ]
  }
 ],
 "metadata": {
  "kernelspec": {
   "display_name": "Python 3 (ipykernel)",
   "language": "python",
   "name": "python3"
  },
  "language_info": {
   "codemirror_mode": {
    "name": "ipython",
    "version": 3
   },
   "file_extension": ".py",
   "mimetype": "text/x-python",
   "name": "python",
   "nbconvert_exporter": "python",
   "pygments_lexer": "ipython3",
   "version": "3.10.12"
  }
 },
 "nbformat": 4,
 "nbformat_minor": 5
}
