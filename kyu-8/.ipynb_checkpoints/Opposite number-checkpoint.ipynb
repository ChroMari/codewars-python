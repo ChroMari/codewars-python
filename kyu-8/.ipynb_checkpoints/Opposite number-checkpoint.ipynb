{
 "cells": [
  {
   "cell_type": "markdown",
   "id": "68ed8f11",
   "metadata": {},
   "source": [
    "## DESCRIPTION:"
   ]
  },
  {
   "cell_type": "markdown",
   "id": "6b4e6b21",
   "metadata": {},
   "source": [
    "Very simple, given an integer or a floating-point number, find its opposite.\n",
    "\n",
    "**Examples:**\n",
    "<code>\n",
    "1: -1\n",
    "14: -14\n",
    "-34: 34 </code>"
   ]
  },
  {
   "cell_type": "markdown",
   "id": "e7fc5129",
   "metadata": {},
   "source": [
    "### Solution:"
   ]
  },
  {
   "cell_type": "code",
   "execution_count": 1,
   "id": "9e2f8d81",
   "metadata": {},
   "outputs": [],
   "source": [
    "def opposite(number):\n",
    "    return -number\n"
   ]
  },
  {
   "cell_type": "markdown",
   "id": "b0d2f49d",
   "metadata": {},
   "source": [
    "### Sample Tests:"
   ]
  },
  {
   "cell_type": "code",
   "execution_count": 2,
   "id": "009dd9d7",
   "metadata": {},
   "outputs": [
    {
     "name": "stdout",
     "output_type": "stream",
     "text": [
      "True\n",
      "True\n",
      "True\n",
      "True\n",
      "True\n",
      "True\n"
     ]
    }
   ],
   "source": [
    "print(opposite(1) == -1)\n",
    "print(opposite(25.6) == -25.6)\n",
    "print(opposite(0) == 0)\n",
    "print(opposite(1425.2222) == -1425.2222)\n",
    "print(opposite(-3.1458) == 3.1458)\n",
    "print(opposite(-95858588225) == 95858588225)"
   ]
  }
 ],
 "metadata": {
  "kernelspec": {
   "display_name": "Python 3 (ipykernel)",
   "language": "python",
   "name": "python3"
  },
  "language_info": {
   "codemirror_mode": {
    "name": "ipython",
    "version": 3
   },
   "file_extension": ".py",
   "mimetype": "text/x-python",
   "name": "python",
   "nbconvert_exporter": "python",
   "pygments_lexer": "ipython3",
   "version": "3.10.12"
  }
 },
 "nbformat": 4,
 "nbformat_minor": 5
}
