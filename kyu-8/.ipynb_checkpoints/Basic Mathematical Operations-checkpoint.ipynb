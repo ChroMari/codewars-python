{
 "cells": [
  {
   "cell_type": "markdown",
   "id": "7144a130",
   "metadata": {},
   "source": [
    "## DESCRIPTION:"
   ]
  },
  {
   "cell_type": "markdown",
   "id": "947d6deb",
   "metadata": {},
   "source": [
    "Your task is to create a function that does four basic mathematical operations.\n",
    "\n",
    "The function should take three arguments - operation(string/char), value1(number), value2(number).\n",
    "The function should return result of numbers after applying the chosen operation.\n",
    "\n",
    "Examples(Operator, value1, value2) --> output\n",
    "<code>\n",
    "('+', 4, 7) --> 11\n",
    "('-', 15, 18) --> -3\n",
    "('*', 5, 5) --> 25\n",
    "('/', 49, 7) --> 7</code>"
   ]
  },
  {
   "cell_type": "code",
   "execution_count": 1,
   "id": "91e89ba3",
   "metadata": {},
   "outputs": [],
   "source": [
    "def basic_op(operator, value1, value2):\n",
    "    result = 0\n",
    "    \n",
    "    if operator == '+':\n",
    "        result = value1 + value2\n",
    "    elif operator == '-':\n",
    "        result = value1 - value2\n",
    "    elif operator == '*':\n",
    "        result = value1 * value2\n",
    "    elif operator == '/':\n",
    "        result = value1 / value2\n",
    "    \n",
    "    return result\n"
   ]
  },
  {
   "cell_type": "markdown",
   "id": "c84cb359",
   "metadata": {},
   "source": [
    "### Sample Tests:"
   ]
  },
  {
   "cell_type": "code",
   "execution_count": 2,
   "id": "53e1452d",
   "metadata": {},
   "outputs": [
    {
     "name": "stdout",
     "output_type": "stream",
     "text": [
      "True\n",
      "True\n",
      "True\n",
      "True\n"
     ]
    }
   ],
   "source": [
    "print(basic_op('+', 4, 7) == 11)\n",
    "print(basic_op('-', 15, 18) == -3)\n",
    "print(basic_op('*', 5, 5) == 25)\n",
    "print(basic_op('/', 49, 7) == 7)"
   ]
  }
 ],
 "metadata": {
  "kernelspec": {
   "display_name": "Python 3 (ipykernel)",
   "language": "python",
   "name": "python3"
  },
  "language_info": {
   "codemirror_mode": {
    "name": "ipython",
    "version": 3
   },
   "file_extension": ".py",
   "mimetype": "text/x-python",
   "name": "python",
   "nbconvert_exporter": "python",
   "pygments_lexer": "ipython3",
   "version": "3.10.12"
  }
 },
 "nbformat": 4,
 "nbformat_minor": 5
}
