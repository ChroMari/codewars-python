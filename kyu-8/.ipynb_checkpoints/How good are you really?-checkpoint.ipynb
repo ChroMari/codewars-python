{
 "cells": [
  {
   "cell_type": "markdown",
   "id": "a84b178a",
   "metadata": {},
   "source": [
    "## DESCRIPTION:"
   ]
  },
  {
   "cell_type": "markdown",
   "id": "d2c00b5f",
   "metadata": {},
   "source": [
    "There was a test in your class and you passed it. Congratulations!\n",
    "But you're an ambitious person. You want to know if you're better than the average student in your class.\n",
    "\n",
    "You receive an array with your peers' test scores. Now calculate the average and compare your score!\n",
    "\n",
    "Return True if you're better, else False!\n",
    "\n",
    "**Note:**\n",
    "Your points are not included in the array of your class's points. For calculating the average point you may add your point to the given array"
   ]
  },
  {
   "cell_type": "markdown",
   "id": "49c4105c",
   "metadata": {},
   "source": [
    "### Solution:"
   ]
  },
  {
   "cell_type": "code",
   "execution_count": 1,
   "id": "c29c2155",
   "metadata": {},
   "outputs": [],
   "source": [
    "def better_than_average(class_points, your_points):\n",
    "    class_points.append(your_points)\n",
    "    midl = sum(class_points) / len(class_points)\n",
    "    return midl < your_points\n"
   ]
  },
  {
   "cell_type": "markdown",
   "id": "e5484458",
   "metadata": {},
   "source": [
    "### Sample Tests:"
   ]
  },
  {
   "cell_type": "code",
   "execution_count": 2,
   "id": "139ff140",
   "metadata": {},
   "outputs": [
    {
     "name": "stdout",
     "output_type": "stream",
     "text": [
      "True\n",
      "True\n",
      "True\n",
      "True\n",
      "True\n"
     ]
    }
   ],
   "source": [
    "print(better_than_average([2, 3], 5) == True)\n",
    "print(better_than_average([100, 40, 34, 57, 29, 72, 57, 88], 75) == True)\n",
    "print(better_than_average([12, 23, 34, 45, 56, 67, 78, 89, 90], 69) == True)\n",
    "print(better_than_average([41, 75, 72, 56, 80, 82, 81, 33], 50) == False)\n",
    "print(better_than_average([29, 55, 74, 60, 11, 90, 67, 28], 21) == False)"
   ]
  }
 ],
 "metadata": {
  "kernelspec": {
   "display_name": "Python 3 (ipykernel)",
   "language": "python",
   "name": "python3"
  },
  "language_info": {
   "codemirror_mode": {
    "name": "ipython",
    "version": 3
   },
   "file_extension": ".py",
   "mimetype": "text/x-python",
   "name": "python",
   "nbconvert_exporter": "python",
   "pygments_lexer": "ipython3",
   "version": "3.10.12"
  }
 },
 "nbformat": 4,
 "nbformat_minor": 5
}
