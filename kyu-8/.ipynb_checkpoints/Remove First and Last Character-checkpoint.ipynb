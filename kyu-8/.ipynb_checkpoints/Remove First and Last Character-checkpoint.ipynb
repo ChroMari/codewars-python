{
 "cells": [
  {
   "cell_type": "markdown",
   "id": "2ed97f0c",
   "metadata": {},
   "source": [
    "## DESCRIPTION:"
   ]
  },
  {
   "cell_type": "markdown",
   "id": "a5fbcbf1",
   "metadata": {},
   "source": [
    "It's pretty straightforward. Your goal is to create a function that removes the first and last characters of a string. You're given one parameter, the original string. You don't have to worry with strings with less than two characters."
   ]
  },
  {
   "cell_type": "markdown",
   "id": "b038d6b8",
   "metadata": {},
   "source": [
    "### Solution:"
   ]
  },
  {
   "cell_type": "code",
   "execution_count": 1,
   "id": "b31c1947",
   "metadata": {},
   "outputs": [],
   "source": [
    "def remove_char(s):\n",
    "    return s[1:-1]\n"
   ]
  },
  {
   "cell_type": "markdown",
   "id": "aaf2f51e",
   "metadata": {},
   "source": [
    "### Sample Tests:"
   ]
  },
  {
   "cell_type": "code",
   "execution_count": 2,
   "id": "c1c22078",
   "metadata": {},
   "outputs": [
    {
     "name": "stdout",
     "output_type": "stream",
     "text": [
      "True\n",
      "True\n",
      "True\n",
      "True\n",
      "True\n",
      "True\n"
     ]
    }
   ],
   "source": [
    "print(remove_char('eloquent') == 'loquen')\n",
    "print(remove_char('country') == 'ountr')\n",
    "print(remove_char('person') == 'erso')\n",
    "print(remove_char('place') == 'lac')\n",
    "print(remove_char('ok') == '')\n",
    "print(remove_char('ooopsss') == 'oopss')"
   ]
  }
 ],
 "metadata": {
  "kernelspec": {
   "display_name": "Python 3 (ipykernel)",
   "language": "python",
   "name": "python3"
  },
  "language_info": {
   "codemirror_mode": {
    "name": "ipython",
    "version": 3
   },
   "file_extension": ".py",
   "mimetype": "text/x-python",
   "name": "python",
   "nbconvert_exporter": "python",
   "pygments_lexer": "ipython3",
   "version": "3.10.12"
  }
 },
 "nbformat": 4,
 "nbformat_minor": 5
}
