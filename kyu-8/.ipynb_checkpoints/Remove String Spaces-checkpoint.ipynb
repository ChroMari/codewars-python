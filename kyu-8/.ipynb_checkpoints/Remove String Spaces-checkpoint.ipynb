{
 "cells": [
  {
   "cell_type": "markdown",
   "id": "21d83b30",
   "metadata": {},
   "source": [
    "## DESCRIPTION:"
   ]
  },
  {
   "cell_type": "markdown",
   "id": "9685348e",
   "metadata": {},
   "source": [
    "Write a function that removes the spaces from the string, then return the resultant string.\n",
    "\n",
    "Examples:\n",
    "<code>\n",
    "Input -> Output\n",
    "\"8 j 8   mBliB8g  imjB8B8  jl  B\" -> \"8j8mBliB8gimjB8B8jlB\"\n",
    "\"8 8 Bi fk8h B 8 BB8B B B  B888 c hl8 BhB fd\" -> \"88Bifk8hB8BB8BBBB888chl8BhBfd\"\n",
    "\"8aaaaa dddd r     \" -> \"8aaaaaddddr\" </code>"
   ]
  },
  {
   "cell_type": "markdown",
   "id": "4a8c3878",
   "metadata": {},
   "source": [
    "### Solution:"
   ]
  },
  {
   "cell_type": "code",
   "execution_count": 1,
   "id": "fd06d1f1",
   "metadata": {},
   "outputs": [],
   "source": [
    "def no_space(x):\n",
    "    return ''.join(x.split(' '))\n"
   ]
  },
  {
   "cell_type": "markdown",
   "id": "d258d455",
   "metadata": {},
   "source": [
    "### Sample Tests:"
   ]
  },
  {
   "cell_type": "code",
   "execution_count": 2,
   "id": "671c42cc",
   "metadata": {},
   "outputs": [
    {
     "name": "stdout",
     "output_type": "stream",
     "text": [
      "True\n",
      "True\n",
      "True\n",
      "True\n",
      "True\n"
     ]
    }
   ],
   "source": [
    "print(no_space('8 j 8   mBliB8g  imjB8B8  jl  B') == '8j8mBliB8gimjB8B8jlB')\n",
    "print(no_space('8 8 Bi fk8h B 8 BB8B B B  B888 c hl8 BhB fd') == '88Bifk8hB8BB8BBBB888chl8BhBfd')\n",
    "print(no_space('8aaaaa dddd r     ') == '8aaaaaddddr')\n",
    "print(no_space('jfBm  gk lf8hg  88lbe8 ') == 'jfBmgklf8hg88lbe8') \n",
    "print(no_space('8j aam') == '8jaam')"
   ]
  },
  {
   "cell_type": "markdown",
   "id": "3a0fd309",
   "metadata": {},
   "source": [
    "### Best Practices:"
   ]
  },
  {
   "cell_type": "code",
   "execution_count": 3,
   "id": "2f221e6b",
   "metadata": {},
   "outputs": [],
   "source": [
    "def no_space(x):\n",
    "    return x.replace(' ' ,'')\n"
   ]
  }
 ],
 "metadata": {
  "kernelspec": {
   "display_name": "Python 3 (ipykernel)",
   "language": "python",
   "name": "python3"
  },
  "language_info": {
   "codemirror_mode": {
    "name": "ipython",
    "version": 3
   },
   "file_extension": ".py",
   "mimetype": "text/x-python",
   "name": "python",
   "nbconvert_exporter": "python",
   "pygments_lexer": "ipython3",
   "version": "3.10.12"
  }
 },
 "nbformat": 4,
 "nbformat_minor": 5
}
