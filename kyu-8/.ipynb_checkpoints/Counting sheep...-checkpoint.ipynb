{
 "cells": [
  {
   "cell_type": "markdown",
   "id": "ea1f7ff1",
   "metadata": {},
   "source": [
    "## DESCRIPTION:"
   ]
  },
  {
   "cell_type": "markdown",
   "id": "9b6d7026",
   "metadata": {},
   "source": [
    "Consider an array/list of sheep where some sheep may be missing from their place. We need a function that counts the number of sheep present in the array (true means present).\n",
    "\n",
    "For example,\n",
    "<code>\n",
    "[True,  True,  True,  False,\n",
    "  True,  True,  True,  True ,\n",
    "  True,  False, True,  False,\n",
    "  True,  False, False, True ,\n",
    "  True,  True,  True,  True ,\n",
    "  False, False, True,  True] </code>\n",
    "\n",
    "The correct answer would be 17.\n",
    "\n",
    "Hint: Don't forget to check for bad values like null/undefined"
   ]
  },
  {
   "cell_type": "markdown",
   "id": "21a535c9",
   "metadata": {},
   "source": [
    "### Solution:"
   ]
  },
  {
   "cell_type": "code",
   "execution_count": 1,
   "id": "dc7128b5",
   "metadata": {},
   "outputs": [],
   "source": [
    "def count_sheeps(sheeps):\n",
    "    p = [sheep for sheep in sheeps if sheep]\n",
    "    \n",
    "    return len(p)\n"
   ]
  },
  {
   "cell_type": "markdown",
   "id": "769d9d32",
   "metadata": {},
   "source": [
    "### Sample Tests:"
   ]
  },
  {
   "cell_type": "code",
   "execution_count": 2,
   "id": "f8ba07dc",
   "metadata": {},
   "outputs": [
    {
     "name": "stdout",
     "output_type": "stream",
     "text": [
      "True\n"
     ]
    }
   ],
   "source": [
    "array1 = [True,  True,  True,  False,\n",
    "                  True,  True,  True,  True ,\n",
    "                  True,  False, True,  False,\n",
    "                  True,  False, False, True ,\n",
    "                  True,  True,  True,  True ,\n",
    "                  False, False, True,  True ];\n",
    "        \n",
    "result = count_sheeps(array1)\n",
    "print(result == 17)"
   ]
  },
  {
   "cell_type": "markdown",
   "id": "a3bb0062",
   "metadata": {},
   "source": [
    "### Best Practices:"
   ]
  },
  {
   "cell_type": "code",
   "execution_count": 3,
   "id": "2897ac3f",
   "metadata": {},
   "outputs": [],
   "source": [
    "def count_sheeps(arrayOfSheeps):\n",
    "    return arrayOfSheeps.count(True)\n"
   ]
  }
 ],
 "metadata": {
  "kernelspec": {
   "display_name": "Python 3 (ipykernel)",
   "language": "python",
   "name": "python3"
  },
  "language_info": {
   "codemirror_mode": {
    "name": "ipython",
    "version": 3
   },
   "file_extension": ".py",
   "mimetype": "text/x-python",
   "name": "python",
   "nbconvert_exporter": "python",
   "pygments_lexer": "ipython3",
   "version": "3.10.12"
  }
 },
 "nbformat": 4,
 "nbformat_minor": 5
}
