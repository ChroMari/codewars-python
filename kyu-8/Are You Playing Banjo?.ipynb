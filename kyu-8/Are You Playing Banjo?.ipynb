{
 "cells": [
  {
   "cell_type": "markdown",
   "id": "6959b655",
   "metadata": {},
   "source": [
    "## DESCRIPTION:"
   ]
  },
  {
   "cell_type": "markdown",
   "id": "29a1e14e",
   "metadata": {},
   "source": [
    "Create a function which answers the question \"Are you playing banjo?\".\n",
    "If your name starts with the letter \"R\" or lower case \"r\", you are playing banjo!\n",
    "\n",
    "The function takes a name as its only argument, and returns one of the following strings:\n",
    "```\n",
    "name + \" plays banjo\" \n",
    "name + \" does not play banjo\"\n",
    "```\n",
    "Names given are always valid strings."
   ]
  },
  {
   "cell_type": "markdown",
   "id": "4f2736c1",
   "metadata": {},
   "source": [
    "### Solution:"
   ]
  },
  {
   "cell_type": "code",
   "execution_count": 2,
   "id": "0e4b3238",
   "metadata": {},
   "outputs": [],
   "source": [
    "def are_you_playing_banjo(name):\n",
    "    if name[0].lower() == 'r':\n",
    "        return f'{name} plays banjo'\n",
    "    else:\n",
    "        return f'{name} does not play banjo'\n"
   ]
  },
  {
   "cell_type": "markdown",
   "id": "9ce0000b",
   "metadata": {},
   "source": [
    "### Sample Tests:"
   ]
  },
  {
   "cell_type": "code",
   "execution_count": 3,
   "id": "ac63c4e2",
   "metadata": {},
   "outputs": [
    {
     "name": "stdout",
     "output_type": "stream",
     "text": [
      "True\n",
      "True\n",
      "True\n",
      "True\n"
     ]
    }
   ],
   "source": [
    "print(are_you_playing_banjo(\"martin\") == \"martin does not play banjo\")\n",
    "print(are_you_playing_banjo(\"Rikke\") == \"Rikke plays banjo\")\n",
    "print(are_you_playing_banjo(\"bravo\") == \"bravo does not play banjo\")\n",
    "print(are_you_playing_banjo(\"rolf\") == \"rolf plays banjo\")"
   ]
  }
 ],
 "metadata": {
  "kernelspec": {
   "display_name": "Python 3 (ipykernel)",
   "language": "python",
   "name": "python3"
  },
  "language_info": {
   "codemirror_mode": {
    "name": "ipython",
    "version": 3
   },
   "file_extension": ".py",
   "mimetype": "text/x-python",
   "name": "python",
   "nbconvert_exporter": "python",
   "pygments_lexer": "ipython3",
   "version": "3.10.12"
  }
 },
 "nbformat": 4,
 "nbformat_minor": 5
}
