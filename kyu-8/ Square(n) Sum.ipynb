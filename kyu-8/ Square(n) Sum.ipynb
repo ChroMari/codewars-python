{
 "cells": [
  {
   "cell_type": "markdown",
   "id": "8aaca841",
   "metadata": {},
   "source": [
    "## DESCRIPTION:"
   ]
  },
  {
   "cell_type": "markdown",
   "id": "dfbe4d04",
   "metadata": {},
   "source": [
    "Complete the square sum function so that it squares each number passed into it and then sums the results together.\n",
    "\n",
    "For example, for [1, 2, 2] it should return 9 because 1^2 + 2^2 + 2^2 = 9"
   ]
  },
  {
   "cell_type": "markdown",
   "id": "f6fbe401",
   "metadata": {},
   "source": [
    "### Solution:"
   ]
  },
  {
   "cell_type": "code",
   "execution_count": 1,
   "id": "60ef63e7",
   "metadata": {},
   "outputs": [],
   "source": [
    "def square_sum(numbers):\n",
    "    result = 0\n",
    "    \n",
    "    for number in numbers:\n",
    "        result += number ** 2\n",
    "    \n",
    "    return result\n"
   ]
  },
  {
   "cell_type": "markdown",
   "id": "dd960fbf",
   "metadata": {},
   "source": [
    "### Sample Tests:"
   ]
  },
  {
   "cell_type": "code",
   "execution_count": 2,
   "id": "9c55569a",
   "metadata": {},
   "outputs": [
    {
     "name": "stdout",
     "output_type": "stream",
     "text": [
      "True\n",
      "True\n",
      "True\n",
      "True\n",
      "True\n"
     ]
    }
   ],
   "source": [
    "print(square_sum([1,2]) == 5)\n",
    "print(square_sum([0, 3, 4, 5]) == 50)\n",
    "print(square_sum([]) == 0)\n",
    "print(square_sum([-1,-2]) == 5)\n",
    "print(square_sum([-1,0,1]) == 2)"
   ]
  },
  {
   "cell_type": "markdown",
   "id": "f1c47dd6",
   "metadata": {},
   "source": [
    "### Best Practices:"
   ]
  },
  {
   "cell_type": "code",
   "execution_count": 3,
   "id": "8c816f19",
   "metadata": {},
   "outputs": [],
   "source": [
    "def square_sum(numbers):\n",
    "    return sum(x ** 2 for x in numbers)\n"
   ]
  }
 ],
 "metadata": {
  "kernelspec": {
   "display_name": "Python 3 (ipykernel)",
   "language": "python",
   "name": "python3"
  },
  "language_info": {
   "codemirror_mode": {
    "name": "ipython",
    "version": 3
   },
   "file_extension": ".py",
   "mimetype": "text/x-python",
   "name": "python",
   "nbconvert_exporter": "python",
   "pygments_lexer": "ipython3",
   "version": "3.10.12"
  }
 },
 "nbformat": 4,
 "nbformat_minor": 5
}
