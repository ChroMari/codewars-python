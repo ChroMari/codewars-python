{
 "cells": [
  {
   "cell_type": "markdown",
   "id": "6d9aacee",
   "metadata": {},
   "source": [
    "## DESCRIPTION:"
   ]
  },
  {
   "cell_type": "markdown",
   "id": "d1c62ef6",
   "metadata": {},
   "source": [
    "Make a function that will return a greeting statement that uses an input; your program should return, \"Hello, <name> how are you doing today?\".\n",
    "\n",
    "[Make sure you type the exact thing I wrote or the program may not execute properly]"
   ]
  },
  {
   "cell_type": "markdown",
   "id": "820a7768",
   "metadata": {},
   "source": [
    "### Solution:"
   ]
  },
  {
   "cell_type": "code",
   "execution_count": 2,
   "id": "eede570b",
   "metadata": {},
   "outputs": [],
   "source": [
    "def greet(name):\n",
    "    return f'Hello, {name} how are you doing today?'\n"
   ]
  },
  {
   "cell_type": "markdown",
   "id": "1774feed",
   "metadata": {},
   "source": [
    "### Sample Tests:"
   ]
  },
  {
   "cell_type": "code",
   "execution_count": 4,
   "id": "549f89fa",
   "metadata": {},
   "outputs": [
    {
     "name": "stdout",
     "output_type": "stream",
     "text": [
      "True\n",
      "True\n"
     ]
    }
   ],
   "source": [
    "print(greet('Ryan') == \"Hello, Ryan how are you doing today?\")\n",
    "print(greet('Shingles') == \"Hello, Shingles how are you doing today?\")"
   ]
  }
 ],
 "metadata": {
  "kernelspec": {
   "display_name": "Python 3 (ipykernel)",
   "language": "python",
   "name": "python3"
  },
  "language_info": {
   "codemirror_mode": {
    "name": "ipython",
    "version": 3
   },
   "file_extension": ".py",
   "mimetype": "text/x-python",
   "name": "python",
   "nbconvert_exporter": "python",
   "pygments_lexer": "ipython3",
   "version": "3.10.12"
  }
 },
 "nbformat": 4,
 "nbformat_minor": 5
}
